{
  "nbformat": 4,
  "nbformat_minor": 0,
  "metadata": {
    "colab": {
      "name": "Copy of Untitled3.ipynb",
      "provenance": [],
      "collapsed_sections": []
    },
    "kernelspec": {
      "name": "python3",
      "display_name": "Python 3"
    }
  },
  "cells": [
    {
      "cell_type": "code",
      "metadata": {
        "id": "86vjqyG6V4W-",
        "colab_type": "code",
        "colab": {}
      },
      "source": [
        "#Import libraries\n",
        "import os\n",
        "import numpy as np\n",
        "import pandas as pd\n",
        "import matplotlib.pyplot as plt\n",
        "\n",
        "#This is a magic command. It will display the plotting image directly below the code cell\n",
        "%matplotlib inline"
      ],
      "execution_count": null,
      "outputs": []
    },
    {
      "cell_type": "code",
      "metadata": {
        "id": "k7wsPZzZWDtI",
        "colab_type": "code",
        "colab": {
          "base_uri": "https://localhost:8080/",
          "height": 204
        },
        "outputId": "777b1ce9-5503-4f7f-cb15-a970fa858033"
      },
      "source": [
        "\n",
        "dataset_train_path = os.getcwd() + \"/day-train.csv\"\n",
        "dataset_train = pd.read_csv(dataset_train_path)\n",
        "dataset_train.tail()"
      ],
      "execution_count": null,
      "outputs": [
        {
          "output_type": "execute_result",
          "data": {
            "text/html": [
              "<div>\n",
              "<style scoped>\n",
              "    .dataframe tbody tr th:only-of-type {\n",
              "        vertical-align: middle;\n",
              "    }\n",
              "\n",
              "    .dataframe tbody tr th {\n",
              "        vertical-align: top;\n",
              "    }\n",
              "\n",
              "    .dataframe thead th {\n",
              "        text-align: right;\n",
              "    }\n",
              "</style>\n",
              "<table border=\"1\" class=\"dataframe\">\n",
              "  <thead>\n",
              "    <tr style=\"text-align: right;\">\n",
              "      <th></th>\n",
              "      <th>Date</th>\n",
              "      <th>Time</th>\n",
              "      <th>Open</th>\n",
              "      <th>High</th>\n",
              "      <th>Low</th>\n",
              "      <th>Close</th>\n",
              "      <th>Volume</th>\n",
              "    </tr>\n",
              "  </thead>\n",
              "  <tbody>\n",
              "    <tr>\n",
              "      <th>2591</th>\n",
              "      <td>2019.12.24</td>\n",
              "      <td>0:00</td>\n",
              "      <td>1.10895</td>\n",
              "      <td>1.10939</td>\n",
              "      <td>1.10690</td>\n",
              "      <td>1.10851</td>\n",
              "      <td>22030</td>\n",
              "    </tr>\n",
              "    <tr>\n",
              "      <th>2592</th>\n",
              "      <td>2019.12.26</td>\n",
              "      <td>0:00</td>\n",
              "      <td>1.10900</td>\n",
              "      <td>1.11088</td>\n",
              "      <td>1.10820</td>\n",
              "      <td>1.10974</td>\n",
              "      <td>10530</td>\n",
              "    </tr>\n",
              "    <tr>\n",
              "      <th>2593</th>\n",
              "      <td>2019.12.27</td>\n",
              "      <td>0:00</td>\n",
              "      <td>1.10973</td>\n",
              "      <td>1.11882</td>\n",
              "      <td>1.10940</td>\n",
              "      <td>1.11760</td>\n",
              "      <td>36676</td>\n",
              "    </tr>\n",
              "    <tr>\n",
              "      <th>2594</th>\n",
              "      <td>2019.12.30</td>\n",
              "      <td>0:00</td>\n",
              "      <td>1.11754</td>\n",
              "      <td>1.12206</td>\n",
              "      <td>1.11713</td>\n",
              "      <td>1.11985</td>\n",
              "      <td>36372</td>\n",
              "    </tr>\n",
              "    <tr>\n",
              "      <th>2595</th>\n",
              "      <td>2019.12.31</td>\n",
              "      <td>0:00</td>\n",
              "      <td>1.11985</td>\n",
              "      <td>1.12392</td>\n",
              "      <td>1.11976</td>\n",
              "      <td>1.12154</td>\n",
              "      <td>32207</td>\n",
              "    </tr>\n",
              "  </tbody>\n",
              "</table>\n",
              "</div>"
            ],
            "text/plain": [
              "            Date  Time     Open     High      Low    Close  Volume\n",
              "2591  2019.12.24  0:00  1.10895  1.10939  1.10690  1.10851   22030\n",
              "2592  2019.12.26  0:00  1.10900  1.11088  1.10820  1.10974   10530\n",
              "2593  2019.12.27  0:00  1.10973  1.11882  1.10940  1.11760   36676\n",
              "2594  2019.12.30  0:00  1.11754  1.12206  1.11713  1.11985   36372\n",
              "2595  2019.12.31  0:00  1.11985  1.12392  1.11976  1.12154   32207"
            ]
          },
          "metadata": {
            "tags": []
          },
          "execution_count": 33
        }
      ]
    },
    {
      "cell_type": "code",
      "metadata": {
        "id": "0nvDNgoHYEOa",
        "colab_type": "code",
        "colab": {
          "base_uri": "https://localhost:8080/",
          "height": 170
        },
        "outputId": "18dfa28e-6895-44d8-f789-22c9b0417ec3"
      },
      "source": [
        "training_set = dataset_train.iloc[:,5:6].values\n",
        "\n",
        "print(training_set)\n",
        "print(\"********************\")\n",
        "print(training_set.shape)"
      ],
      "execution_count": null,
      "outputs": [
        {
          "output_type": "stream",
          "text": [
            "[[1.44111]\n",
            " [1.43624]\n",
            " [1.43998]\n",
            " ...\n",
            " [1.1176 ]\n",
            " [1.11985]\n",
            " [1.12154]]\n",
            "********************\n",
            "(2596, 1)\n"
          ],
          "name": "stdout"
        }
      ]
    },
    {
      "cell_type": "code",
      "metadata": {
        "id": "v7iQxed6YL13",
        "colab_type": "code",
        "colab": {
          "base_uri": "https://localhost:8080/",
          "height": 68
        },
        "outputId": "870d97c6-9719-4669-d654-3a1cd5b6eb87"
      },
      "source": [
        "#----------------------------------------------#\n",
        "# Additional Information (Things to Remember!) #\n",
        "#----------------------------------------------#\n",
        "\n",
        "print(type(dataset_train))\n",
        "print(type(dataset_train.iloc[:,5:6]))   \n",
        "print(type(dataset_train.iloc[:,5:6].values))\n",
        "\n",
        "# iloc[rangeofRows, rangeofColumns]\n",
        "# Indexing starts from zero.\n",
        "# \":\" indicates entire range.\n",
        "# \"5:6\" indicates column one only. Because, the upper bound will be excluded. \n",
        "# mathematical operation are performed on the arrays. So, it is crusial to convert the data to arrays."
      ],
      "execution_count": null,
      "outputs": [
        {
          "output_type": "stream",
          "text": [
            "<class 'pandas.core.frame.DataFrame'>\n",
            "<class 'pandas.core.frame.DataFrame'>\n",
            "<class 'numpy.ndarray'>\n"
          ],
          "name": "stdout"
        }
      ]
    },
    {
      "cell_type": "code",
      "metadata": {
        "id": "5zdZu_RMYP8n",
        "colab_type": "code",
        "colab": {}
      },
      "source": [
        "from sklearn.preprocessing import MinMaxScaler\n",
        "\n",
        "scaler = MinMaxScaler(feature_range = (0,1)) \n",
        "scaled_training_set = scaler.fit_transform(training_set)\n",
        "\n",
        "# scaled_training_set"
      ],
      "execution_count": null,
      "outputs": []
    },
    {
      "cell_type": "code",
      "metadata": {
        "id": "uN6kMC7jb4uR",
        "colab_type": "code",
        "colab": {}
      },
      "source": [
        "X_train = []\n",
        "y_train = []\n",
        "for i in range(60,len(training_set)):\n",
        "    X_train.append(scaled_training_set[i-60:i, 0])\n",
        "    y_train.append(scaled_training_set[i, 0])\n",
        "X_train = np.array(X_train)\n",
        "y_train = np.array(y_train)"
      ],
      "execution_count": null,
      "outputs": []
    },
    {
      "cell_type": "code",
      "metadata": {
        "id": "AlXR0H4Xb7pX",
        "colab_type": "code",
        "colab": {
          "base_uri": "https://localhost:8080/",
          "height": 51
        },
        "outputId": "7abafe63-a2cf-48f9-b432-422d0afa9d26"
      },
      "source": [
        "print(X_train.shape)\n",
        "print(y_train.shape)"
      ],
      "execution_count": null,
      "outputs": [
        {
          "output_type": "stream",
          "text": [
            "(2536, 60)\n",
            "(2536,)\n"
          ],
          "name": "stdout"
        }
      ]
    },
    {
      "cell_type": "code",
      "metadata": {
        "id": "TUC4d9U-b_GW",
        "colab_type": "code",
        "colab": {
          "base_uri": "https://localhost:8080/",
          "height": 34
        },
        "outputId": "a7dae7d8-f6cb-46ef-95a7-a13b2934edea"
      },
      "source": [
        "X_train = np.reshape(X_train,(X_train.shape[0], X_train.shape[1], 1))\n",
        "\n",
        "X_train.shape"
      ],
      "execution_count": null,
      "outputs": [
        {
          "output_type": "execute_result",
          "data": {
            "text/plain": [
              "(2536, 60, 1)"
            ]
          },
          "metadata": {
            "tags": []
          },
          "execution_count": 39
        }
      ]
    },
    {
      "cell_type": "code",
      "metadata": {
        "id": "SPE2QDuLcDz_",
        "colab_type": "code",
        "colab": {}
      },
      "source": [
        "from keras.models import Sequential\n",
        "from keras.layers import LSTM\n",
        "from keras.layers import Dense\n",
        "from keras.layers import Dropout"
      ],
      "execution_count": null,
      "outputs": []
    },
    {
      "cell_type": "code",
      "metadata": {
        "id": "DNir9SyncHb-",
        "colab_type": "code",
        "colab": {}
      },
      "source": [
        "#--------------------------------------------#\n",
        "#  Initialization and Adding layers to RNN   #\n",
        "#--------------------------------------------#\n",
        "regressor = Sequential()\n",
        "\n",
        "regressor.add(LSTM(units = 100, return_sequences= True, input_shape = (X_train.shape[1], 1)))   # the first LSTM layer\n",
        "regressor.add(Dropout(0.2))                     \n",
        "\n",
        "regressor.add(LSTM(units = 100, return_sequences= True))  # the second LSTM layer\n",
        "regressor.add(Dropout(0.2))\n",
        "\n",
        "regressor.add(LSTM(units = 100, return_sequences= True))  # the third LSTM layer\n",
        "regressor.add(Dropout(0.2))\n",
        "\n",
        "regressor.add(LSTM(units = 100, return_sequences= True))  # the fourth LSTM layer\n",
        "regressor.add(Dropout(0.2))\n",
        "\n",
        "regressor.add(LSTM(units = 100))  # the fifth LSTM layer\n",
        "regressor.add(Dropout(0.2))\n",
        "\n",
        "regressor.add(Dense(units=1))   # the dense layer"
      ],
      "execution_count": null,
      "outputs": []
    },
    {
      "cell_type": "code",
      "metadata": {
        "id": "VmntQcQIcLXG",
        "colab_type": "code",
        "colab": {
          "base_uri": "https://localhost:8080/",
          "height": 1000
        },
        "outputId": "0fe48928-dfd7-48b2-8345-2759be633ca6"
      },
      "source": [
        "#-----------------------------------------------------#\n",
        "#  Compiling and Fitting the RNN to the Training set  #\n",
        "#-----------------------------------------------------#\n",
        "\n",
        "regressor.compile(optimizer = 'adam', loss = 'mean_squared_error') \n",
        "regressor.fit(X_train, y_train, epochs=100, batch_size=32)\n",
        "\n",
        "# the loss function \"mean_squared_error\"(MSE) is used because it is a Regression problem.\n",
        "# epochs = no of iterations. After every 32 (batch_size) datasets, the MSE will be calculated and \n",
        "# the tweaks will be Back Propagated i.e., the weights will be tweaked for every 32 training datasets."
      ],
      "execution_count": null,
      "outputs": [
        {
          "output_type": "stream",
          "text": [
            "Epoch 1/100\n",
            "2536/2536 [==============================] - 27s 11ms/step - loss: 0.0132\n",
            "Epoch 2/100\n",
            "2536/2536 [==============================] - 23s 9ms/step - loss: 0.0044\n",
            "Epoch 3/100\n",
            "2536/2536 [==============================] - 24s 10ms/step - loss: 0.0042\n",
            "Epoch 4/100\n",
            "2536/2536 [==============================] - 24s 9ms/step - loss: 0.0035\n",
            "Epoch 5/100\n",
            "2536/2536 [==============================] - 25s 10ms/step - loss: 0.0033\n",
            "Epoch 6/100\n",
            "2536/2536 [==============================] - 24s 9ms/step - loss: 0.0031\n",
            "Epoch 7/100\n",
            "2536/2536 [==============================] - 24s 10ms/step - loss: 0.0033\n",
            "Epoch 8/100\n",
            "2536/2536 [==============================] - 24s 9ms/step - loss: 0.0025\n",
            "Epoch 9/100\n",
            "2536/2536 [==============================] - 24s 9ms/step - loss: 0.0024\n",
            "Epoch 10/100\n",
            "2536/2536 [==============================] - 24s 9ms/step - loss: 0.0023\n",
            "Epoch 11/100\n",
            "2536/2536 [==============================] - 24s 10ms/step - loss: 0.0022\n",
            "Epoch 12/100\n",
            "2536/2536 [==============================] - 25s 10ms/step - loss: 0.0022\n",
            "Epoch 13/100\n",
            "2536/2536 [==============================] - 25s 10ms/step - loss: 0.0021\n",
            "Epoch 14/100\n",
            "2536/2536 [==============================] - 24s 9ms/step - loss: 0.0019\n",
            "Epoch 15/100\n",
            "2536/2536 [==============================] - 24s 9ms/step - loss: 0.0019\n",
            "Epoch 16/100\n",
            "2536/2536 [==============================] - 24s 9ms/step - loss: 0.0020\n",
            "Epoch 17/100\n",
            "2536/2536 [==============================] - 24s 9ms/step - loss: 0.0017\n",
            "Epoch 18/100\n",
            "2536/2536 [==============================] - 24s 10ms/step - loss: 0.0018\n",
            "Epoch 19/100\n",
            "2536/2536 [==============================] - 24s 9ms/step - loss: 0.0019\n",
            "Epoch 20/100\n",
            "2536/2536 [==============================] - 26s 10ms/step - loss: 0.0018\n",
            "Epoch 21/100\n",
            "2536/2536 [==============================] - 24s 9ms/step - loss: 0.0016\n",
            "Epoch 22/100\n",
            "2536/2536 [==============================] - 24s 10ms/step - loss: 0.0016\n",
            "Epoch 23/100\n",
            "2536/2536 [==============================] - 24s 9ms/step - loss: 0.0015\n",
            "Epoch 24/100\n",
            "2536/2536 [==============================] - 25s 10ms/step - loss: 0.0014\n",
            "Epoch 25/100\n",
            "2536/2536 [==============================] - 25s 10ms/step - loss: 0.0014\n",
            "Epoch 26/100\n",
            "2536/2536 [==============================] - 25s 10ms/step - loss: 0.0014\n",
            "Epoch 27/100\n",
            "2536/2536 [==============================] - 24s 9ms/step - loss: 0.0016\n",
            "Epoch 28/100\n",
            "2536/2536 [==============================] - 25s 10ms/step - loss: 0.0013\n",
            "Epoch 29/100\n",
            "2536/2536 [==============================] - 24s 10ms/step - loss: 0.0013\n",
            "Epoch 30/100\n",
            "2536/2536 [==============================] - 24s 10ms/step - loss: 0.0013\n",
            "Epoch 31/100\n",
            "2536/2536 [==============================] - 24s 9ms/step - loss: 0.0012\n",
            "Epoch 32/100\n",
            "2536/2536 [==============================] - 24s 10ms/step - loss: 0.0013\n",
            "Epoch 33/100\n",
            "2536/2536 [==============================] - 25s 10ms/step - loss: 0.0013\n",
            "Epoch 34/100\n",
            "2536/2536 [==============================] - 24s 10ms/step - loss: 0.0012\n",
            "Epoch 35/100\n",
            "2536/2536 [==============================] - 24s 9ms/step - loss: 0.0011\n",
            "Epoch 36/100\n",
            "2536/2536 [==============================] - 24s 10ms/step - loss: 0.0010\n",
            "Epoch 37/100\n",
            "2536/2536 [==============================] - 24s 10ms/step - loss: 0.0011\n",
            "Epoch 38/100\n",
            "2536/2536 [==============================] - 24s 10ms/step - loss: 0.0011\n",
            "Epoch 39/100\n",
            "2536/2536 [==============================] - 24s 10ms/step - loss: 0.0011\n",
            "Epoch 40/100\n",
            "2536/2536 [==============================] - 25s 10ms/step - loss: 0.0011\n",
            "Epoch 41/100\n",
            "2536/2536 [==============================] - 25s 10ms/step - loss: 0.0011\n",
            "Epoch 42/100\n",
            "2536/2536 [==============================] - 24s 10ms/step - loss: 0.0010\n",
            "Epoch 43/100\n",
            "2536/2536 [==============================] - 24s 10ms/step - loss: 9.7061e-04\n",
            "Epoch 44/100\n",
            "2536/2536 [==============================] - 24s 10ms/step - loss: 0.0010\n",
            "Epoch 45/100\n",
            "2536/2536 [==============================] - 24s 10ms/step - loss: 0.0011\n",
            "Epoch 46/100\n",
            "2536/2536 [==============================] - 24s 10ms/step - loss: 9.8054e-04\n",
            "Epoch 47/100\n",
            "2536/2536 [==============================] - 24s 10ms/step - loss: 0.0011\n",
            "Epoch 48/100\n",
            "2536/2536 [==============================] - 25s 10ms/step - loss: 9.9320e-04\n",
            "Epoch 49/100\n",
            "2536/2536 [==============================] - 26s 10ms/step - loss: 0.0010\n",
            "Epoch 50/100\n",
            "2536/2536 [==============================] - 25s 10ms/step - loss: 9.4566e-04\n",
            "Epoch 51/100\n",
            "2536/2536 [==============================] - 24s 10ms/step - loss: 0.0010\n",
            "Epoch 52/100\n",
            "2536/2536 [==============================] - 24s 10ms/step - loss: 9.2728e-04\n",
            "Epoch 53/100\n",
            "2536/2536 [==============================] - 25s 10ms/step - loss: 9.9841e-04\n",
            "Epoch 54/100\n",
            "2536/2536 [==============================] - 24s 10ms/step - loss: 0.0011\n",
            "Epoch 55/100\n",
            "2536/2536 [==============================] - 24s 9ms/step - loss: 0.0011\n",
            "Epoch 56/100\n",
            "2536/2536 [==============================] - 24s 10ms/step - loss: 8.8877e-04\n",
            "Epoch 57/100\n",
            "2536/2536 [==============================] - 24s 10ms/step - loss: 8.4330e-04\n",
            "Epoch 58/100\n",
            "2536/2536 [==============================] - 25s 10ms/step - loss: 9.4339e-04\n",
            "Epoch 59/100\n",
            "2536/2536 [==============================] - 24s 10ms/step - loss: 8.5089e-04\n",
            "Epoch 60/100\n",
            "2536/2536 [==============================] - 24s 9ms/step - loss: 8.9795e-04\n",
            "Epoch 61/100\n",
            "2536/2536 [==============================] - 24s 9ms/step - loss: 8.4922e-04\n",
            "Epoch 62/100\n",
            "2536/2536 [==============================] - 24s 10ms/step - loss: 8.2698e-04\n",
            "Epoch 63/100\n",
            "2536/2536 [==============================] - 24s 10ms/step - loss: 9.4167e-04\n",
            "Epoch 64/100\n",
            "2536/2536 [==============================] - 24s 10ms/step - loss: 8.8176e-04\n",
            "Epoch 65/100\n",
            "2536/2536 [==============================] - 24s 10ms/step - loss: 8.3895e-04\n",
            "Epoch 66/100\n",
            "2536/2536 [==============================] - 25s 10ms/step - loss: 7.5909e-04\n",
            "Epoch 67/100\n",
            "2536/2536 [==============================] - 26s 10ms/step - loss: 8.0919e-04\n",
            "Epoch 68/100\n",
            "2536/2536 [==============================] - 26s 10ms/step - loss: 7.8729e-04\n",
            "Epoch 69/100\n",
            "2536/2536 [==============================] - 26s 10ms/step - loss: 8.2459e-04\n",
            "Epoch 70/100\n",
            "2536/2536 [==============================] - 26s 10ms/step - loss: 7.9781e-04\n",
            "Epoch 71/100\n",
            "2536/2536 [==============================] - 25s 10ms/step - loss: 8.2131e-04\n",
            "Epoch 72/100\n",
            "2536/2536 [==============================] - 26s 10ms/step - loss: 8.8508e-04\n",
            "Epoch 73/100\n",
            "2536/2536 [==============================] - 26s 10ms/step - loss: 9.0772e-04\n",
            "Epoch 74/100\n",
            "2536/2536 [==============================] - 26s 10ms/step - loss: 9.2671e-04\n",
            "Epoch 75/100\n",
            "2536/2536 [==============================] - 26s 10ms/step - loss: 8.9795e-04\n",
            "Epoch 76/100\n",
            "2536/2536 [==============================] - 26s 10ms/step - loss: 7.4482e-04\n",
            "Epoch 77/100\n",
            "2536/2536 [==============================] - 26s 10ms/step - loss: 8.1463e-04\n",
            "Epoch 78/100\n",
            "2536/2536 [==============================] - 25s 10ms/step - loss: 8.1732e-04\n",
            "Epoch 79/100\n",
            "2536/2536 [==============================] - 26s 10ms/step - loss: 7.6314e-04\n",
            "Epoch 80/100\n",
            "2536/2536 [==============================] - 26s 10ms/step - loss: 8.3255e-04\n",
            "Epoch 81/100\n",
            "2536/2536 [==============================] - 26s 10ms/step - loss: 8.2075e-04\n",
            "Epoch 82/100\n",
            "2536/2536 [==============================] - 26s 10ms/step - loss: 7.5784e-04\n",
            "Epoch 83/100\n",
            "2536/2536 [==============================] - 26s 10ms/step - loss: 7.7098e-04\n",
            "Epoch 84/100\n",
            "2536/2536 [==============================] - 26s 10ms/step - loss: 8.0905e-04\n",
            "Epoch 85/100\n",
            "2536/2536 [==============================] - 26s 10ms/step - loss: 7.5668e-04\n",
            "Epoch 86/100\n",
            "2536/2536 [==============================] - 26s 10ms/step - loss: 8.1681e-04\n",
            "Epoch 87/100\n",
            "2536/2536 [==============================] - 26s 10ms/step - loss: 7.3771e-04\n",
            "Epoch 88/100\n",
            "2536/2536 [==============================] - 26s 10ms/step - loss: 9.1991e-04\n",
            "Epoch 89/100\n",
            "2536/2536 [==============================] - 25s 10ms/step - loss: 7.6605e-04\n",
            "Epoch 90/100\n",
            "2536/2536 [==============================] - 24s 10ms/step - loss: 7.0547e-04\n",
            "Epoch 91/100\n",
            "2536/2536 [==============================] - 25s 10ms/step - loss: 7.8741e-04\n",
            "Epoch 92/100\n",
            "2536/2536 [==============================] - 26s 10ms/step - loss: 7.7199e-04\n",
            "Epoch 93/100\n",
            "2536/2536 [==============================] - 26s 10ms/step - loss: 8.0735e-04\n",
            "Epoch 94/100\n",
            "2536/2536 [==============================] - 26s 10ms/step - loss: 8.5360e-04\n",
            "Epoch 95/100\n",
            "2536/2536 [==============================] - 26s 10ms/step - loss: 7.1639e-04\n",
            "Epoch 96/100\n",
            "2536/2536 [==============================] - 26s 10ms/step - loss: 7.0277e-04\n",
            "Epoch 97/100\n",
            "2536/2536 [==============================] - 26s 10ms/step - loss: 8.3179e-04\n",
            "Epoch 98/100\n",
            "2536/2536 [==============================] - 25s 10ms/step - loss: 6.8936e-04\n",
            "Epoch 99/100\n",
            "2536/2536 [==============================] - 25s 10ms/step - loss: 6.9466e-04\n",
            "Epoch 100/100\n",
            "2536/2536 [==============================] - 26s 10ms/step - loss: 7.2956e-04\n"
          ],
          "name": "stdout"
        },
        {
          "output_type": "execute_result",
          "data": {
            "text/plain": [
              "<keras.callbacks.callbacks.History at 0x7fe977578ba8>"
            ]
          },
          "metadata": {
            "tags": []
          },
          "execution_count": 42
        }
      ]
    },
    {
      "cell_type": "code",
      "metadata": {
        "id": "USHeFLq8jr3A",
        "colab_type": "code",
        "colab": {}
      },
      "source": [
        "#Read Data from CSV file (For Prediction 20 Mei 2020)\n",
        "predict_next_day = pd.read_csv('02-juli.csv', parse_dates=True, index_col=0)"
      ],
      "execution_count": null,
      "outputs": []
    },
    {
      "cell_type": "code",
      "metadata": {
        "id": "x2pP3xNyjs0m",
        "colab_type": "code",
        "colab": {
          "base_uri": "https://localhost:8080/",
          "height": 34
        },
        "outputId": "b2977e61-ce16-4e2b-bea5-6a10c95d4d38"
      },
      "source": [
        "#create a new dataframe\n",
        "#iloc[:,4:5] is to select all range in column 4-5 that is close column\n",
        "new_df = predict_next_day.iloc[:,4:5]\n",
        "#get the last 60 day closing price values and convert the dataframe to an array\n",
        "last_60_days = new_df[-60:].values\n",
        "#scale the data to be values beetween 0 and 1\n",
        "last_60_days_scaled = scaler.transform(last_60_days)\n",
        "#create an empty list\n",
        "Xx_test = []\n",
        "#append the past 60 days \n",
        "Xx_test.append(last_60_days_scaled)\n",
        "#convert the X_test data set to a numpy array\n",
        "Xx_test = np.array(Xx_test)\n",
        "#Reshape the data\n",
        "Xx_test = np.reshape(Xx_test, (Xx_test.shape[0], Xx_test.shape[1], 1))\n",
        "#Get the predicted scaled price\n",
        "pred_price = regressor.predict(Xx_test)\n",
        "#undo the scaling\n",
        "pred_price = scaler.inverse_transform(pred_price)\n",
        "\n",
        "print(pred_price)\n",
        "# pred_price"
      ],
      "execution_count": null,
      "outputs": [
        {
          "output_type": "stream",
          "text": [
            "[[1.122604]]\n"
          ],
          "name": "stdout"
        }
      ]
    }
  ]
}